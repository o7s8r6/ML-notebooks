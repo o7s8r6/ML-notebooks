{
 "cells": [
  {
   "cell_type": "markdown",
   "metadata": {},
   "source": [
    "# Neural Networks for MNIST dataset"
   ]
  },
  {
   "cell_type": "code",
   "execution_count": 1,
   "metadata": {},
   "outputs": [],
   "source": [
    "import argparse\n",
    "import torch\n",
    "import torch.nn as nn\n",
    "import torch.nn.functional as F\n",
    "import torch.optim as optim\n",
    "from torchvision import datasets, transforms\n",
    "from torch.utils.data import Dataset\n",
    "import numpy as np"
   ]
  },
  {
   "cell_type": "code",
   "execution_count": 2,
   "metadata": {},
   "outputs": [],
   "source": [
    "import matplotlib\n",
    "import matplotlib.pyplot as plt\n",
    "%matplotlib inline"
   ]
  },
  {
   "cell_type": "markdown",
   "metadata": {},
   "source": [
    "## Loading MNIST\n",
    "Here we load the dataset and create data loaders."
   ]
  },
  {
   "cell_type": "code",
   "execution_count": 20,
   "metadata": {},
   "outputs": [],
   "source": [
    "train_ds = datasets.MNIST('../data', train=True, download=True, \n",
    "                       transform=transforms.Compose([\n",
    "                       transforms.ToTensor(),\n",
    "                       transforms.Normalize((0.1307,), (0.3081,))\n",
    "                   ]))\n",
    "test_ds = datasets.MNIST('../data', train=False, download=True, \n",
    "                       transform=transforms.Compose([\n",
    "                       transforms.ToTensor(),\n",
    "                       transforms.Normalize((0.1307,), (0.3081,))\n",
    "                   ]))"
   ]
  },
  {
   "cell_type": "code",
   "execution_count": 4,
   "metadata": {},
   "outputs": [],
   "source": [
    "batch_size = 32\n",
    "#batch_size = 5 # for testing\n",
    "kwargs = {'num_workers': 1, 'pin_memory': True} \n",
    "\n",
    "train_loader = torch.utils.data.DataLoader(train_ds, batch_size=batch_size, shuffle=True, **kwargs)\n",
    "test_loader = torch.utils.data.DataLoader(test_ds, batch_size=batch_size, shuffle=False, **kwargs)"
   ]
  },
  {
   "cell_type": "markdown",
   "metadata": {},
   "source": [
    "## Looking at Examples"
   ]
  },
  {
   "cell_type": "code",
   "execution_count": 5,
   "metadata": {},
   "outputs": [],
   "source": [
    "train_dl = iter(train_loader)\n",
    "x, y = next(train_dl)"
   ]
  },
  {
   "cell_type": "code",
   "execution_count": 6,
   "metadata": {},
   "outputs": [
    {
     "name": "stdout",
     "output_type": "stream",
     "text": [
      "torch.Size([32, 1, 28, 28]) torch.Size([32])\n"
     ]
    }
   ],
   "source": [
    "print(x.shape, y.shape)"
   ]
  },
  {
   "cell_type": "markdown",
   "metadata": {},
   "source": [
    "Helper method (from fast.ai)"
   ]
  },
  {
   "cell_type": "code",
   "execution_count": 7,
   "metadata": {},
   "outputs": [],
   "source": [
    "def show(img, title=None):\n",
    "    plt.imshow(img, interpolation='none', cmap=\"gray\")\n",
    "    if title is not None: plt.title(title)"
   ]
  },
  {
   "cell_type": "code",
   "execution_count": 8,
   "metadata": {},
   "outputs": [
    {
     "data": {
      "text/plain": [
       "(32, 1, 28, 28)"
      ]
     },
     "execution_count": 8,
     "metadata": {},
     "output_type": "execute_result"
    }
   ],
   "source": [
    "# first from torch to numpy\n",
    "X = x.numpy(); Y = y.numpy()\n",
    "X.shape"
   ]
  },
  {
   "cell_type": "code",
   "execution_count": 9,
   "metadata": {},
   "outputs": [
    {
     "data": {
      "image/png": "[encoded data removed]",
      "text/plain": [
       "<Figure size 432x288 with 1 Axes>"
      ]
     },
     "metadata": {
      "needs_background": "light"
     },
     "output_type": "display_data"
    }
   ],
   "source": [
    "show(X[0][0], Y[0])"
   ]
  },
  {
   "cell_type": "code",
   "execution_count": 10,
   "metadata": {},
   "outputs": [
    {
     "name": "stdout",
     "output_type": "stream",
     "text": [
      "[[-0.42421296 -0.42421296 -0.42421296 -0.42421296 -0.42421296 -0.42421296\n",
      "  -0.42421296 -0.42421296 -0.42421296 -0.42421296 -0.42421296 -0.42421296\n",
      "  -0.42421296 -0.42421296 -0.42421296 -0.42421296 -0.42421296 -0.42421296\n",
      "  -0.42421296 -0.42421296 -0.42421296 -0.42421296 -0.42421296 -0.42421296\n",
      "  -0.42421296 -0.42421296 -0.42421296 -0.42421296]\n",
      " [-0.42421296 -0.42421296 -0.42421296 -0.42421296 -0.42421296 -0.42421296\n",
      "  -0.42421296 -0.42421296 -0.42421296 -0.42421296 -0.42421296 -0.42421296\n",
      "  -0.42421296 -0.42421296 -0.42421296 -0.42421296 -0.42421296 -0.42421296\n",
      "  -0.42421296 -0.42421296 -0.42421296 -0.42421296 -0.42421296 -0.42421296\n",
      "  -0.42421296 -0.42421296 -0.42421296 -0.42421296]\n",
      " [-0.42421296 -0.42421296 -0.42421296 -0.42421296 -0.42421296 -0.42421296\n",
      "  -0.42421296 -0.42421296 -0.42421296 -0.42421296 -0.42421296 -0.42421296\n",
      "  -0.42421296 -0.42421296 -0.42421296 -0.42421296 -0.42421296 -0.42421296\n",
      "  -0.42421296 -0.42421296 -0.42421296 -0.42421296 -0.42421296 -0.42421296\n",
      "  -0.42421296 -0.42421296 -0.42421296 -0.42421296]\n",
      " [-0.42421296 -0.42421296 -0.42421296 -0.42421296 -0.42421296 -0.42421296\n",
      "  -0.42421296 -0.42421296 -0.42421296 -0.42421296 -0.42421296 -0.42421296\n",
      "  -0.42421296 -0.42421296 -0.42421296 -0.42421296 -0.42421296 -0.42421296\n",
      "  -0.42421296 -0.42421296 -0.42421296 -0.42421296 -0.42421296 -0.42421296\n",
      "  -0.42421296 -0.42421296 -0.42421296 -0.42421296]]\n"
     ]
    }
   ],
   "source": [
    "print(X[0][0][:4][:4])"
   ]
  },
  {
   "cell_type": "markdown",
   "metadata": {},
   "source": [
    "## Feed Forward Neural Network"
   ]
  },
  {
   "cell_type": "code",
   "execution_count": 11,
   "metadata": {},
   "outputs": [],
   "source": [
    "# for the number of neurons in the hidden unit\n",
    "def get_model(M = 300):\n",
    "    net = nn.Sequential(nn.Linear(28*28, M),\n",
    "                        nn.ReLU(),\n",
    "                        nn.Linear(M, 10))\n",
    "    return net #.cuda()"
   ]
  },
  {
   "cell_type": "code",
   "execution_count": 12,
   "metadata": {},
   "outputs": [],
   "source": [
    "def train_model(train_loader, test_loader, num_epochs, model, optimizer):\n",
    "    model.train()\n",
    "    sum_loss = 0.0\n",
    "    total = 0\n",
    "    for epoch in range(num_epochs):\n",
    "        for i, (images, labels) in enumerate(train_loader):  \n",
    "            batch = images.shape[0] # size of the batch\n",
    "            # Convert torch tensor to Variable, change shape of the input\n",
    "            images = images.view(-1, 28*28) #.cuda()\n",
    "        \n",
    "            # Forward + Backward + Optimize\n",
    "            optimizer.zero_grad()  # zero the gradient buffer\n",
    "            outputs = model(images)\n",
    "            loss = F.cross_entropy(outputs, labels)\n",
    "            loss.backward()\n",
    "            optimizer.step()\n",
    "        \n",
    "            total += batch\n",
    "            sum_loss += batch * loss.item()\n",
    "            if (i+1) % 100 == 0:\n",
    "                print ('Epoch [%d/%d], Loss: %.4f' \n",
    "                   %(epoch+1, num_epochs, sum_loss/total))\n",
    "                \n",
    "        train_loss = sum_loss/total\n",
    "        print('Epoch [%d/%d], Loss: %.4f' %(epoch+1, num_epochs, train_loss))\n",
    "        val_acc, val_loss = model_accuracy_loss(model, test_loader)\n",
    "        print('Epoch [%d/%d], Valid Accuracy: %.4f, Valid Loss: %.4f' %(epoch+1, num_epochs, val_acc, val_loss))\n",
    "    return val_acc, val_loss, train_loss"
   ]
  },
  {
   "cell_type": "code",
   "execution_count": 13,
   "metadata": {},
   "outputs": [],
   "source": [
    "def model_accuracy_loss(model, test_loader):\n",
    "    model.eval()\n",
    "    correct = 0\n",
    "    sum_loss = 0.0\n",
    "    total = 0\n",
    "    for images, labels in test_loader:\n",
    "        images = images.view(-1, 28*28)  #.cuda()\n",
    "        outputs = model(images)\n",
    "        _, pred = torch.max(outputs.data, 1)\n",
    "        loss = F.cross_entropy(outputs, labels)\n",
    "        sum_loss += labels.size(0)*loss.item()\n",
    "        total += labels.size(0)\n",
    "        correct += pred.eq(labels.data).sum().item()\n",
    "    return 100 * correct / total, sum_loss/ total"
   ]
  },
  {
   "cell_type": "code",
   "execution_count": 14,
   "metadata": {},
   "outputs": [
    {
     "data": {
      "text/plain": [
       "(5.81, 2.3784399974822996)"
      ]
     },
     "execution_count": 14,
     "metadata": {},
     "output_type": "execute_result"
    }
   ],
   "source": [
    "net = get_model()\n",
    "learning_rate = 0.01\n",
    "optimizer = optim.Adam(net.parameters(), lr=learning_rate)\n",
    "model_accuracy_loss(net, test_loader)"
   ]
  },
  {
   "cell_type": "code",
   "execution_count": 15,
   "metadata": {},
   "outputs": [
    {
     "name": "stdout",
     "output_type": "stream",
     "text": [
      "Epoch [1/2], Loss: 0.7367\n",
      "Epoch [1/2], Loss: 0.5800\n",
      "Epoch [1/2], Loss: 0.5059\n",
      "Epoch [1/2], Loss: 0.4693\n",
      "Epoch [1/2], Loss: 0.4492\n",
      "Epoch [1/2], Loss: 0.4312\n",
      "Epoch [1/2], Loss: 0.4131\n",
      "Epoch [1/2], Loss: 0.4034\n",
      "Epoch [1/2], Loss: 0.3937\n",
      "Epoch [1/2], Loss: 0.3851\n",
      "Epoch [1/2], Loss: 0.3775\n",
      "Epoch [1/2], Loss: 0.3735\n",
      "Epoch [1/2], Loss: 0.3670\n",
      "Epoch [1/2], Loss: 0.3632\n",
      "Epoch [1/2], Loss: 0.3582\n",
      "Epoch [1/2], Loss: 0.3565\n",
      "Epoch [1/2], Loss: 0.3557\n",
      "Epoch [1/2], Loss: 0.3512\n",
      "Epoch [1/2], Loss: 0.3473\n",
      "Epoch [1/2], Valid Accuracy: 92.8500, Valid Loss: 0.2543\n",
      "Epoch [2/2], Loss: 0.3422\n",
      "Epoch [2/2], Loss: 0.3386\n",
      "Epoch [2/2], Loss: 0.3355\n",
      "Epoch [2/2], Loss: 0.3329\n",
      "Epoch [2/2], Loss: 0.3297\n",
      "Epoch [2/2], Loss: 0.3273\n",
      "Epoch [2/2], Loss: 0.3253\n",
      "Epoch [2/2], Loss: 0.3229\n",
      "Epoch [2/2], Loss: 0.3201\n",
      "Epoch [2/2], Loss: 0.3190\n",
      "Epoch [2/2], Loss: 0.3165\n",
      "Epoch [2/2], Loss: 0.3156\n",
      "Epoch [2/2], Loss: 0.3143\n",
      "Epoch [2/2], Loss: 0.3141\n",
      "Epoch [2/2], Loss: 0.3139\n",
      "Epoch [2/2], Loss: 0.3131\n",
      "Epoch [2/2], Loss: 0.3122\n",
      "Epoch [2/2], Loss: 0.3116\n",
      "Epoch [2/2], Loss: 0.3106\n",
      "Epoch [2/2], Valid Accuracy: 92.0700, Valid Loss: 0.3064\n"
     ]
    },
    {
     "data": {
      "text/plain": [
       "(92.07, 0.3064056280315854, 0.31058098874678836)"
      ]
     },
     "execution_count": 15,
     "metadata": {},
     "output_type": "execute_result"
    }
   ],
   "source": [
    "train_model(train_loader, test_loader, num_epochs=2, model=net, optimizer=optimizer)"
   ]
  },
  {
   "cell_type": "markdown",
   "metadata": {},
   "source": [
    "## Models with L2 regularization\n",
    "To add L2 regularization use the `weight_decay` argument on the optimizer"
   ]
  },
  {
   "cell_type": "code",
   "execution_count": 16,
   "metadata": {},
   "outputs": [],
   "source": [
    "optimizer = optim.Adam(net.parameters(), lr=learning_rate, weight_decay = 0.01)"
   ]
  },
  {
   "cell_type": "markdown",
   "metadata": {},
   "source": [
    "## Models with Dropout"
   ]
  },
  {
   "cell_type": "code",
   "execution_count": 17,
   "metadata": {},
   "outputs": [],
   "source": [
    "def get_model_v2(M = 300, p=0):\n",
    "    modules = []\n",
    "    modules.append(nn.Linear(28*28, M))\n",
    "    modules.append(nn.ReLU())\n",
    "    if p > 0:\n",
    "        modules.append(nn.Dropout(p))\n",
    "    modules.append(nn.Linear(M, 10))\n",
    "    return nn.Sequential(*modules) #.cuda()"
   ]
  },
  {
   "cell_type": "code",
   "execution_count": 18,
   "metadata": {},
   "outputs": [],
   "source": [
    "net = get_model_v2(M = 300, p=0.1)\n",
    "optimizer = optim.Adam(net.parameters(), lr=0.01)"
   ]
  },
  {
   "cell_type": "code",
   "execution_count": 19,
   "metadata": {},
   "outputs": [
    {
     "name": "stdout",
     "output_type": "stream",
     "text": [
      "Epoch [1/4], Loss: 0.7627\n",
      "Epoch [1/4], Loss: 0.6168\n",
      "Epoch [1/4], Loss: 0.5430\n",
      "Epoch [1/4], Loss: 0.5011\n",
      "Epoch [1/4], Loss: 0.4805\n",
      "Epoch [1/4], Loss: 0.4698\n",
      "Epoch [1/4], Loss: 0.4667\n",
      "Epoch [1/4], Loss: 0.4585\n",
      "Epoch [1/4], Loss: 0.4471\n",
      "Epoch [1/4], Loss: 0.4396\n",
      "Epoch [1/4], Loss: 0.4325\n",
      "Epoch [1/4], Loss: 0.4326\n",
      "Epoch [1/4], Loss: 0.4291\n",
      "Epoch [1/4], Loss: 0.4299\n",
      "Epoch [1/4], Loss: 0.4272\n",
      "Epoch [1/4], Loss: 0.4255\n",
      "Epoch [1/4], Loss: 0.4235\n",
      "Epoch [1/4], Loss: 0.4211\n",
      "Epoch [1/4], Loss: 0.4221\n",
      "Epoch [1/4], Valid Accuracy: 92.2300, Valid Loss: 0.3075\n",
      "Epoch [2/4], Loss: 0.4151\n",
      "Epoch [2/4], Loss: 0.4074\n",
      "Epoch [2/4], Loss: 0.4015\n",
      "Epoch [2/4], Loss: 0.3965\n",
      "Epoch [2/4], Loss: 0.3896\n",
      "Epoch [2/4], Loss: 0.3862\n",
      "Epoch [2/4], Loss: 0.3818\n",
      "Epoch [2/4], Loss: 0.3772\n",
      "Epoch [2/4], Loss: 0.3740\n",
      "Epoch [2/4], Loss: 0.3702\n",
      "Epoch [2/4], Loss: 0.3679\n",
      "Epoch [2/4], Loss: 0.3638\n",
      "Epoch [2/4], Loss: 0.3622\n",
      "Epoch [2/4], Loss: 0.3597\n",
      "Epoch [2/4], Loss: 0.3571\n",
      "Epoch [2/4], Loss: 0.3544\n",
      "Epoch [2/4], Loss: 0.3528\n",
      "Epoch [2/4], Loss: 0.3504\n",
      "Epoch [2/4], Loss: 0.3493\n",
      "Epoch [2/4], Valid Accuracy: 91.8500, Valid Loss: 0.3173\n",
      "Epoch [3/4], Loss: 0.3462\n",
      "Epoch [3/4], Loss: 0.3440\n",
      "Epoch [3/4], Loss: 0.3412\n",
      "Epoch [3/4], Loss: 0.3381\n",
      "Epoch [3/4], Loss: 0.3365\n",
      "Epoch [3/4], Loss: 0.3355\n",
      "Epoch [3/4], Loss: 0.3348\n",
      "Epoch [3/4], Loss: 0.3344\n",
      "Epoch [3/4], Loss: 0.3318\n",
      "Epoch [3/4], Loss: 0.3299\n",
      "Epoch [3/4], Loss: 0.3279\n",
      "Epoch [3/4], Loss: 0.3261\n",
      "Epoch [3/4], Loss: 0.3248\n",
      "Epoch [3/4], Loss: 0.3245\n",
      "Epoch [3/4], Loss: 0.3231\n",
      "Epoch [3/4], Loss: 0.3221\n",
      "Epoch [3/4], Loss: 0.3208\n",
      "Epoch [3/4], Loss: 0.3205\n",
      "Epoch [3/4], Loss: 0.3208\n",
      "Epoch [3/4], Valid Accuracy: 92.7700, Valid Loss: 0.2811\n",
      "Epoch [4/4], Loss: 0.3188\n",
      "Epoch [4/4], Loss: 0.3177\n",
      "Epoch [4/4], Loss: 0.3160\n",
      "Epoch [4/4], Loss: 0.3145\n",
      "Epoch [4/4], Loss: 0.3133\n",
      "Epoch [4/4], Loss: 0.3126\n",
      "Epoch [4/4], Loss: 0.3124\n",
      "Epoch [4/4], Loss: 0.3113\n",
      "Epoch [4/4], Loss: 0.3102\n",
      "Epoch [4/4], Loss: 0.3094\n",
      "Epoch [4/4], Loss: 0.3081\n",
      "Epoch [4/4], Loss: 0.3077\n",
      "Epoch [4/4], Loss: 0.3070\n",
      "Epoch [4/4], Loss: 0.3068\n",
      "Epoch [4/4], Loss: 0.3064\n",
      "Epoch [4/4], Loss: 0.3056\n",
      "Epoch [4/4], Loss: 0.3054\n",
      "Epoch [4/4], Loss: 0.3050\n",
      "Epoch [4/4], Loss: 0.3046\n",
      "Epoch [4/4], Valid Accuracy: 93.9200, Valid Loss: 0.2919\n"
     ]
    },
    {
     "data": {
      "text/plain": [
       "(93.92, 0.2919134729707148, 0.3045825398512709)"
      ]
     },
     "execution_count": 19,
     "metadata": {},
     "output_type": "execute_result"
    }
   ],
   "source": [
    "train_model(train_loader, test_loader, num_epochs=4, model=net, optimizer=optimizer)"
   ]
  },
  {
   "cell_type": "code",
   "execution_count": null,
   "metadata": {},
   "outputs": [],
   "source": []
  }
 ],
 "metadata": {
  "kernelspec": {
   "display_name": "Python 3",
   "language": "python",
   "name": "python3"
  },
  "language_info": {
   "codemirror_mode": {
    "name": "ipython",
    "version": 3
   },
   "file_extension": ".py",
   "mimetype": "text/x-python",
   "name": "python",
   "nbconvert_exporter": "python",
   "pygments_lexer": "ipython3",
   "version": "3.7.4"
  },
  "toc": {
   "nav_menu": {},
   "number_sections": true,
   "sideBar": true,
   "skip_h1_title": false,
   "toc_cell": false,
   "toc_position": {},
   "toc_section_display": "block",
   "toc_window_display": false
  }
 },
 "nbformat": 4,
 "nbformat_minor": 2
}
